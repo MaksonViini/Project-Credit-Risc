{
 "metadata": {
  "language_info": {
   "codemirror_mode": {
    "name": "ipython",
    "version": 3
   },
   "file_extension": ".py",
   "mimetype": "text/x-python",
   "name": "python",
   "nbconvert_exporter": "python",
   "pygments_lexer": "ipython3",
   "version": "3.9.1-final"
  },
  "orig_nbformat": 2,
  "kernelspec": {
   "name": "python3",
   "display_name": "Python 3.9.1 64-bit",
   "metadata": {
    "interpreter": {
     "hash": "0e23e1a9f4ca7468c8af4ee6ce308b9537df5993bd4db8f7613c5e8b7c551c19"
    }
   }
  }
 },
 "nbformat": 4,
 "nbformat_minor": 2,
 "cells": [
  {
   "cell_type": "code",
   "execution_count": 17,
   "metadata": {},
   "outputs": [],
   "source": [
    "import pandas as pd\n",
    "import matplotlib.pyplot as plt"
   ]
  },
  {
   "cell_type": "code",
   "execution_count": 2,
   "metadata": {},
   "outputs": [],
   "source": [
    "train_data = pd.read_csv('archive/treino.csv')\n",
    "test_data  = pd.read_csv('archive/teste.csv')"
   ]
  },
  {
   "cell_type": "code",
   "execution_count": 5,
   "metadata": {},
   "outputs": [],
   "source": [
    "def shape(data):\n",
    "    print(f'{data.shape[0]} linhas\\n')\n",
    "    print(f'{data.shape[1]} colunas\\n')"
   ]
  },
  {
   "cell_type": "code",
   "execution_count": 11,
   "metadata": {},
   "outputs": [
    {
     "output_type": "stream",
     "name": "stdout",
     "text": [
      "Os dados de treino tem o shape de:\n110000 linhas\n\n11 colunas\n\n----------\nOs dados de teste tem o shape de:\n40000 linhas\n\n10 colunas\n\n"
     ]
    }
   ],
   "source": [
    "print(f'Os dados de treino tem o shape de:' )\n",
    "shape(train_data)\n",
    "print('-'*10)\n",
    "\n",
    "print(f'Os dados de teste tem o shape de:' )\n",
    "shape(test_data)"
   ]
  },
  {
   "source": [
    "# Analystcs"
   ],
   "cell_type": "markdown",
   "metadata": {}
  },
  {
   "cell_type": "code",
   "execution_count": 13,
   "metadata": {},
   "outputs": [
    {
     "output_type": "execute_result",
     "data": {
      "text/plain": [
       "   inadimplente  util_linhas_inseguras  idade  vezes_passou_de_30_59_dias  \\\n",
       "0             1               0.766127     45                           2   \n",
       "1             0               0.957151     40                           0   \n",
       "2             0               0.658180     38                           1   \n",
       "3             0               0.233810     30                           0   \n",
       "4             0               0.907239     49                           1   \n",
       "\n",
       "   razao_debito  salario_mensal  numero_linhas_crdto_aberto  \\\n",
       "0      0.802982          9120.0                          13   \n",
       "1      0.121876          2600.0                           4   \n",
       "2      0.085113          3042.0                           2   \n",
       "3      0.036050          3300.0                           5   \n",
       "4      0.024926         63588.0                           7   \n",
       "\n",
       "   numero_vezes_passou_90_dias  numero_emprestimos_imobiliarios  \\\n",
       "0                            0                                6   \n",
       "1                            0                                0   \n",
       "2                            1                                0   \n",
       "3                            0                                0   \n",
       "4                            0                                1   \n",
       "\n",
       "   numero_de_vezes_que_passou_60_89_dias  numero_de_dependentes  \n",
       "0                                      0                    2.0  \n",
       "1                                      0                    1.0  \n",
       "2                                      0                    0.0  \n",
       "3                                      0                    0.0  \n",
       "4                                      0                    0.0  "
      ],
      "text/html": "<div>\n<style scoped>\n    .dataframe tbody tr th:only-of-type {\n        vertical-align: middle;\n    }\n\n    .dataframe tbody tr th {\n        vertical-align: top;\n    }\n\n    .dataframe thead th {\n        text-align: right;\n    }\n</style>\n<table border=\"1\" class=\"dataframe\">\n  <thead>\n    <tr style=\"text-align: right;\">\n      <th></th>\n      <th>inadimplente</th>\n      <th>util_linhas_inseguras</th>\n      <th>idade</th>\n      <th>vezes_passou_de_30_59_dias</th>\n      <th>razao_debito</th>\n      <th>salario_mensal</th>\n      <th>numero_linhas_crdto_aberto</th>\n      <th>numero_vezes_passou_90_dias</th>\n      <th>numero_emprestimos_imobiliarios</th>\n      <th>numero_de_vezes_que_passou_60_89_dias</th>\n      <th>numero_de_dependentes</th>\n    </tr>\n  </thead>\n  <tbody>\n    <tr>\n      <th>0</th>\n      <td>1</td>\n      <td>0.766127</td>\n      <td>45</td>\n      <td>2</td>\n      <td>0.802982</td>\n      <td>9120.0</td>\n      <td>13</td>\n      <td>0</td>\n      <td>6</td>\n      <td>0</td>\n      <td>2.0</td>\n    </tr>\n    <tr>\n      <th>1</th>\n      <td>0</td>\n      <td>0.957151</td>\n      <td>40</td>\n      <td>0</td>\n      <td>0.121876</td>\n      <td>2600.0</td>\n      <td>4</td>\n      <td>0</td>\n      <td>0</td>\n      <td>0</td>\n      <td>1.0</td>\n    </tr>\n    <tr>\n      <th>2</th>\n      <td>0</td>\n      <td>0.658180</td>\n      <td>38</td>\n      <td>1</td>\n      <td>0.085113</td>\n      <td>3042.0</td>\n      <td>2</td>\n      <td>1</td>\n      <td>0</td>\n      <td>0</td>\n      <td>0.0</td>\n    </tr>\n    <tr>\n      <th>3</th>\n      <td>0</td>\n      <td>0.233810</td>\n      <td>30</td>\n      <td>0</td>\n      <td>0.036050</td>\n      <td>3300.0</td>\n      <td>5</td>\n      <td>0</td>\n      <td>0</td>\n      <td>0</td>\n      <td>0.0</td>\n    </tr>\n    <tr>\n      <th>4</th>\n      <td>0</td>\n      <td>0.907239</td>\n      <td>49</td>\n      <td>1</td>\n      <td>0.024926</td>\n      <td>63588.0</td>\n      <td>7</td>\n      <td>0</td>\n      <td>1</td>\n      <td>0</td>\n      <td>0.0</td>\n    </tr>\n  </tbody>\n</table>\n</div>"
     },
     "metadata": {},
     "execution_count": 13
    }
   ],
   "source": [
    "train_data.head()"
   ]
  },
  {
   "cell_type": "code",
   "execution_count": 15,
   "metadata": {},
   "outputs": [
    {
     "output_type": "stream",
     "name": "stdout",
     "text": [
      "<class 'pandas.core.frame.DataFrame'>\nRangeIndex: 110000 entries, 0 to 109999\nData columns (total 11 columns):\n #   Column                                 Non-Null Count   Dtype  \n---  ------                                 --------------   -----  \n 0   inadimplente                           110000 non-null  int64  \n 1   util_linhas_inseguras                  110000 non-null  float64\n 2   idade                                  110000 non-null  int64  \n 3   vezes_passou_de_30_59_dias             110000 non-null  int64  \n 4   razao_debito                           110000 non-null  float64\n 5   salario_mensal                         88237 non-null   float64\n 6   numero_linhas_crdto_aberto             110000 non-null  int64  \n 7   numero_vezes_passou_90_dias            110000 non-null  int64  \n 8   numero_emprestimos_imobiliarios        110000 non-null  int64  \n 9   numero_de_vezes_que_passou_60_89_dias  110000 non-null  int64  \n 10  numero_de_dependentes                  107122 non-null  float64\ndtypes: float64(4), int64(7)\nmemory usage: 9.2 MB\n"
     ]
    }
   ],
   "source": [
    "train_data.info()"
   ]
  },
  {
   "cell_type": "code",
   "execution_count": 16,
   "metadata": {},
   "outputs": [
    {
     "output_type": "execute_result",
     "data": {
      "text/plain": [
       "inadimplente                                 0\n",
       "util_linhas_inseguras                        0\n",
       "idade                                        0\n",
       "vezes_passou_de_30_59_dias                   0\n",
       "razao_debito                                 0\n",
       "salario_mensal                           21763\n",
       "numero_linhas_crdto_aberto                   0\n",
       "numero_vezes_passou_90_dias                  0\n",
       "numero_emprestimos_imobiliarios              0\n",
       "numero_de_vezes_que_passou_60_89_dias        0\n",
       "numero_de_dependentes                     2878\n",
       "dtype: int64"
      ]
     },
     "metadata": {},
     "execution_count": 16
    }
   ],
   "source": [
    "# Verificando os dados nulos\n",
    "train_data.isna().sum()"
   ]
  },
  {
   "cell_type": "code",
   "execution_count": 31,
   "metadata": {},
   "outputs": [
    {
     "output_type": "stream",
     "name": "stdout",
     "text": [
      "A quantidade de inadimplente e de: \n7331 \n\nA quantidade de nao inadimplente e de: \n102669 \n\n"
     ]
    }
   ],
   "source": [
    "# Visualizando a quantidade de inadimplentes\r\n",
    "print('A quantidade de inadimplente e de: ')\r\n",
    "print(train_data['inadimplente'][train_data['inadimplente'] == 1].count(), '\\n')\r\n",
    "\r\n",
    "print('A quantidade de nao inadimplente e de: ')\r\n",
    "print(train_data['inadimplente'][train_data['inadimplente'] == 0].count(), '\\n')"
   ]
  },
  {
   "cell_type": "code",
   "execution_count": 34,
   "metadata": {},
   "outputs": [
    {
     "output_type": "execute_result",
     "data": {
      "text/plain": [
       "idade\n",
       "0        1\n",
       "21     142\n",
       "22     324\n",
       "23     469\n",
       "24     616\n",
       "      ... \n",
       "102      3\n",
       "103      2\n",
       "105      1\n",
       "107      1\n",
       "109      1\n",
       "Name: inadimplente, Length: 86, dtype: int64"
      ]
     },
     "metadata": {},
     "execution_count": 34
    }
   ],
   "source": [
    "# Agrupando os inadimplentes por idade\n",
    "train_data.groupby('idade')['inadimplente'].count()"
   ]
  },
  {
   "cell_type": "code",
   "execution_count": 38,
   "metadata": {},
   "outputs": [
    {
     "output_type": "execute_result",
     "data": {
      "text/plain": [
       "Index(['inadimplente', 'util_linhas_inseguras', 'idade',\n",
       "       'vezes_passou_de_30_59_dias', 'razao_debito', 'salario_mensal',\n",
       "       'numero_linhas_crdto_aberto', 'numero_vezes_passou_90_dias',\n",
       "       'numero_emprestimos_imobiliarios',\n",
       "       'numero_de_vezes_que_passou_60_89_dias', 'numero_de_dependentes'],\n",
       "      dtype='object')"
      ]
     },
     "metadata": {},
     "execution_count": 38
    }
   ],
   "source": [
    "train_data.columns"
   ]
  },
  {
   "cell_type": "code",
   "execution_count": 44,
   "metadata": {},
   "outputs": [
    {
     "output_type": "execute_result",
     "data": {
      "text/plain": [
       "idade\n",
       "0         6000.0\n",
       "21      108079.0\n",
       "22      310245.0\n",
       "23      642245.0\n",
       "24     1009266.0\n",
       "         ...    \n",
       "102       6717.0\n",
       "103       1601.0\n",
       "105          0.0\n",
       "107          0.0\n",
       "109          0.0\n",
       "Name: salario_mensal, Length: 86, dtype: float64"
      ]
     },
     "metadata": {},
     "execution_count": 44
    }
   ],
   "source": [
    "# Soma do salario mensal por idade\n",
    "train_data.groupby('idade')['salario_mensal'].sum()"
   ]
  },
  {
   "cell_type": "code",
   "execution_count": 50,
   "metadata": {},
   "outputs": [
    {
     "output_type": "execute_result",
     "data": {
      "text/plain": [
       "numero_de_dependentes\n",
       "0.0     63652\n",
       "1.0     19416\n",
       "2.0     14306\n",
       "3.0      6898\n",
       "4.0      2111\n",
       "5.0       563\n",
       "6.0       115\n",
       "7.0        38\n",
       "8.0        16\n",
       "9.0         2\n",
       "10.0        4\n",
       "20.0        1\n",
       "Name: inadimplente, dtype: int64"
      ]
     },
     "metadata": {},
     "execution_count": 50
    }
   ],
   "source": [
    "train_data.groupby('numero_de_dependentes')['inadimplente'].count()"
   ]
  },
  {
   "cell_type": "code",
   "execution_count": 51,
   "metadata": {},
   "outputs": [
    {
     "output_type": "execute_result",
     "data": {
      "text/plain": [
       "Index(['inadimplente', 'util_linhas_inseguras', 'idade',\n",
       "       'vezes_passou_de_30_59_dias', 'razao_debito', 'salario_mensal',\n",
       "       'numero_linhas_crdto_aberto', 'numero_vezes_passou_90_dias',\n",
       "       'numero_emprestimos_imobiliarios',\n",
       "       'numero_de_vezes_que_passou_60_89_dias', 'numero_de_dependentes'],\n",
       "      dtype='object')"
      ]
     },
     "metadata": {},
     "execution_count": 51
    }
   ],
   "source": [
    "train_data.columns"
   ]
  },
  {
   "cell_type": "code",
   "execution_count": 53,
   "metadata": {},
   "outputs": [],
   "source": [
    "features = ['util_linhas_inseguras', 'idade',\n",
    "       'vezes_passou_de_30_59_dias', 'razao_debito', 'salario_mensal',\n",
    "       'numero_linhas_crdto_aberto', 'numero_vezes_passou_90_dias',\n",
    "       'numero_emprestimos_imobiliarios',\n",
    "       'numero_de_vezes_que_passou_60_89_dias', 'numero_de_dependentes']\n",
    "\n",
    "target = 'inadimplente'"
   ]
  }
 ]
}